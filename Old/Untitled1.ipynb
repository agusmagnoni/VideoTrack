{
 "cells": [
  {
   "cell_type": "code",
   "execution_count": 33,
   "metadata": {},
   "outputs": [],
   "source": [
    "import numpy as np\n",
    "import cv2\n",
    "\n",
    "def mostrar(data):\n",
    "    cv2.imshow('frame',data)\n",
    "    cv2.waitKey(0)\n",
    "    cv2.destroyAllWindows()\n",
    "frame = cv2.imread('testOLD.png')\n",
    "\n",
    "def hacerDif (imagen,x,y):\n",
    "    frameDif = np.int16(imagen)\n",
    "    frameDif[:,:,0] = frameDif[:,:,0] - imagen[y,x,0]    \n",
    "    frameDif[:,:,1] = frameDif[:,:,1] - imagen[y,x,1]    \n",
    "    frameDif[:,:,2] = frameDif[:,:,2] - imagen[y,x,2]\n",
    "    frameDif = np.abs(frameDif)\n",
    "    frameDif = np.uint8(frameDif)\n",
    "    return frameDif\n",
    "\n",
    "def binarear(data, tolerancia=30):\n",
    "    data[:,:,0] = (data[:,:,0] < tolerancia) * 255 \n",
    "    data[:,:,1] = (data[:,:,1] < tolerancia) * 255 \n",
    "    data[:,:,2] = (data[:,:,2] < tolerancia) * 255 \n",
    "    return data"
   ]
  },
  {
   "cell_type": "code",
   "execution_count": 35,
   "metadata": {},
   "outputs": [],
   "source": [
    "dif = hacerDif(frame,378,276)\n",
    "mostrar(dif)"
   ]
  },
  {
   "cell_type": "code",
   "execution_count": 36,
   "metadata": {},
   "outputs": [],
   "source": [
    "m = dif.copy()\n",
    "m = binarear(m)\n",
    "mostrar(m)"
   ]
  },
  {
   "cell_type": "code",
   "execution_count": 34,
   "metadata": {},
   "outputs": [],
   "source": [
    "mostrar(frame)"
   ]
  }
 ],
 "metadata": {
  "kernelspec": {
   "display_name": "Python 3",
   "language": "python",
   "name": "python3"
  },
  "language_info": {
   "codemirror_mode": {
    "name": "ipython",
    "version": 3
   },
   "file_extension": ".py",
   "mimetype": "text/x-python",
   "name": "python",
   "nbconvert_exporter": "python",
   "pygments_lexer": "ipython3",
   "version": "3.6.6"
  }
 },
 "nbformat": 4,
 "nbformat_minor": 2
}
